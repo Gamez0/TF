{
  "nbformat": 4,
  "nbformat_minor": 0,
  "metadata": {
    "colab": {
      "name": "tf2-06-2-softmax_zoo_classifier.ipynb",
      "provenance": [],
      "collapsed_sections": [],
      "mount_file_id": "1QlmnGPjFmSf08MwnAO5NiNmVUwPlj_S3",
      "authorship_tag": "ABX9TyN+fMourVKPknoLbfswZVZ1",
      "include_colab_link": true
    },
    "kernelspec": {
      "name": "python3",
      "display_name": "Python 3"
    }
  },
  "cells": [
    {
      "cell_type": "markdown",
      "metadata": {
        "id": "view-in-github",
        "colab_type": "text"
      },
      "source": [
        "<a href=\"https://colab.research.google.com/github/Gamez0/TensorFlow2.0/blob/main/tf2_06_2_softmax_zoo_classifier.ipynb\" target=\"_parent\"><img src=\"https://colab.research.google.com/assets/colab-badge.svg\" alt=\"Open In Colab\"/></a>"
      ]
    },
    {
      "cell_type": "code",
      "metadata": {
        "id": "facSW9s7FyCo"
      },
      "source": [
        "import tensorflow as tf\n",
        "import numpy as np"
      ],
      "execution_count": 1,
      "outputs": []
    },
    {
      "cell_type": "code",
      "metadata": {
        "id": "zIBKvYt5F8FA"
      },
      "source": [
        "xy = np.loadtxt('/content/drive/MyDrive/data/data-04-zoo.csv', delimiter=',', dtype=np.float32)\n",
        "x_data = xy[:,0:-1]\n",
        "y_data = xy[:,[-1]]"
      ],
      "execution_count": 3,
      "outputs": []
    },
    {
      "cell_type": "code",
      "metadata": {
        "colab": {
          "base_uri": "https://localhost:8080/"
        },
        "id": "xHLS-WVcG5uK",
        "outputId": "1c2cb1e6-d949-47ab-f3da-9bd33b72e6e5"
      },
      "source": [
        "print(x_data.shape, y_data.shape)"
      ],
      "execution_count": 4,
      "outputs": [
        {
          "output_type": "stream",
          "text": [
            "(101, 16) (101, 1)\n"
          ],
          "name": "stdout"
        }
      ]
    },
    {
      "cell_type": "code",
      "metadata": {
        "id": "ffLWwvhqHAwd"
      },
      "source": [
        "nb_classes = 7"
      ],
      "execution_count": 5,
      "outputs": []
    },
    {
      "cell_type": "code",
      "metadata": {
        "id": "A9tTlAjnHGiV"
      },
      "source": [
        "# Convert y_data to one_hot\n",
        "y_one_hot = tf.keras.utils.to_categorical(y_data, nb_classes)\n",
        "print(\"one_hot:\", y_one_hot)"
      ],
      "execution_count": null,
      "outputs": []
    },
    {
      "cell_type": "code",
      "metadata": {
        "colab": {
          "base_uri": "https://localhost:8080/"
        },
        "id": "MHyTUnGEHalF",
        "outputId": "eebefff5-f935-401d-f71c-85cefbf8bb33"
      },
      "source": [
        "tf.model = tf.keras.Sequential()\n",
        "tf.model.add(tf.keras.layers.Dense(units=nb_classes, input_dim=16, activation='softmax'))\n",
        "tf.model.compile(loss='categorical_crossentropy', optimizer=tf.keras.optimizers.SGD(lr=0.1), metrics=['accuracy'])\n",
        "tf.model.summary()"
      ],
      "execution_count": 8,
      "outputs": [
        {
          "output_type": "stream",
          "text": [
            "Model: \"sequential_1\"\n",
            "_________________________________________________________________\n",
            "Layer (type)                 Output Shape              Param #   \n",
            "=================================================================\n",
            "dense_1 (Dense)              (None, 7)                 119       \n",
            "=================================================================\n",
            "Total params: 119\n",
            "Trainable params: 119\n",
            "Non-trainable params: 0\n",
            "_________________________________________________________________\n"
          ],
          "name": "stdout"
        }
      ]
    },
    {
      "cell_type": "code",
      "metadata": {
        "id": "8gwy58RKH9EF"
      },
      "source": [
        "history = tf.model.fit(x_data, y_one_hot, epochs=1000)"
      ],
      "execution_count": null,
      "outputs": []
    },
    {
      "cell_type": "code",
      "metadata": {
        "colab": {
          "base_uri": "https://localhost:8080/"
        },
        "id": "P5f-hxiHINyE",
        "outputId": "fded7189-1697-4a4c-c07f-d18596a8668f"
      },
      "source": [
        "# Single data test\n",
        "test_data = np.array([[0, 0, 1, 0, 0, 1, 1, 1, 1, 0, 0, 1, 0, 1, 0, 0]]) # expected pred == 3 (feathers)\n",
        "print(tf.model.predict(test_data), tf.model.predict_classes(test_data))"
      ],
      "execution_count": 10,
      "outputs": [
        {
          "output_type": "stream",
          "text": [
            "WARNING:tensorflow:From <ipython-input-10-4114656ef381>:3: Sequential.predict_classes (from tensorflow.python.keras.engine.sequential) is deprecated and will be removed after 2021-01-01.\n",
            "Instructions for updating:\n",
            "Please use instead:* `np.argmax(model.predict(x), axis=-1)`,   if your model does multi-class classification   (e.g. if it uses a `softmax` last-layer activation).* `(model.predict(x) > 0.5).astype(\"int32\")`,   if your model does binary classification   (e.g. if it uses a `sigmoid` last-layer activation).\n",
            "[[9.9866453e-04 8.4212958e-04 7.3434198e-03 9.8502362e-01 4.5556952e-03\n",
            "  4.1228535e-07 1.2360072e-03]] [3]\n"
          ],
          "name": "stdout"
        }
      ]
    },
    {
      "cell_type": "code",
      "metadata": {
        "id": "EO-NIQ2mO_6b"
      },
      "source": [
        "# Full x_data test\n",
        "pred = tf.model.predict_classes(x_data)\n",
        "for p, y in zip(pred,y_data.flatten()):\n",
        "  print(\"[{}] Prediction: {} True Y: {}\".format(p == int(y), p, int(y)))"
      ],
      "execution_count": null,
      "outputs": []
    },
    {
      "cell_type": "code",
      "metadata": {
        "id": "5SxzIYWQPaiy"
      },
      "source": [
        ""
      ],
      "execution_count": null,
      "outputs": []
    }
  ]
}