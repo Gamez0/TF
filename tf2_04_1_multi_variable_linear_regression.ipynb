{
  "nbformat": 4,
  "nbformat_minor": 0,
  "metadata": {
    "colab": {
      "name": "tf2-04-1-multi_variable_linear_regression.ipynb",
      "provenance": [],
      "collapsed_sections": [],
      "authorship_tag": "ABX9TyPTVMaw164nWiT6DyKbC11o",
      "include_colab_link": true
    },
    "kernelspec": {
      "name": "python3",
      "display_name": "Python 3"
    }
  },
  "cells": [
    {
      "cell_type": "markdown",
      "metadata": {
        "id": "view-in-github",
        "colab_type": "text"
      },
      "source": [
        "<a href=\"https://colab.research.google.com/github/Gamez0/TensorFlow2.0/blob/main/tf2_04_1_multi_variable_linear_regression.ipynb\" target=\"_parent\"><img src=\"https://colab.research.google.com/assets/colab-badge.svg\" alt=\"Open In Colab\"/></a>"
      ]
    },
    {
      "cell_type": "code",
      "metadata": {
        "id": "Iqz-nXDMmTW_"
      },
      "source": [
        "import tensorflow as tf\n",
        "import numpy as np\n",
        "import matplotlib.pyplot as plt\n",
        "x_data = [[73., 80., 75.],\n",
        "          [93., 88., 93.],\n",
        "          [89., 91., 90.],\n",
        "          [96., 98., 100.],\n",
        "          [73., 66., 70.]]\n",
        "y_data = [[152.],\n",
        "          [185.],\n",
        "          [180.],\n",
        "          [196.],\n",
        "          [142.]]"
      ],
      "execution_count": null,
      "outputs": []
    },
    {
      "cell_type": "code",
      "metadata": {
        "id": "xHQhb1oUmllj"
      },
      "source": [
        "tf.model = tf.keras.Sequential()"
      ],
      "execution_count": null,
      "outputs": []
    },
    {
      "cell_type": "code",
      "metadata": {
        "id": "jKs4O9GHnsRa"
      },
      "source": [
        "tf.model.add(tf.keras.layers.Dense(units=1,input_dim=3,activation='linear'))"
      ],
      "execution_count": null,
      "outputs": []
    },
    {
      "cell_type": "code",
      "metadata": {
        "colab": {
          "base_uri": "https://localhost:8080/"
        },
        "id": "zFluSsTFn6kg",
        "outputId": "f57ea4c8-af1d-4533-8d96-c2ee42759aab"
      },
      "source": [
        "tf.model.compile(loss='mse',optimizer=tf.keras.optimizers.SGD(lr=1e-5))\n",
        "tf.model.summary()\n",
        "history = tf.model.fit(x_data,y_data,epochs=100)"
      ],
      "execution_count": null,
      "outputs": [
        {
          "output_type": "stream",
          "text": [
            "Model: \"sequential\"\n",
            "_________________________________________________________________\n",
            "Layer (type)                 Output Shape              Param #   \n",
            "=================================================================\n",
            "dense (Dense)                (None, 1)                 4         \n",
            "=================================================================\n",
            "Total params: 4\n",
            "Trainable params: 4\n",
            "Non-trainable params: 0\n",
            "_________________________________________________________________\n",
            "Epoch 1/100\n",
            "1/1 [==============================] - 0s 2ms/step - loss: 46234.0430\n",
            "Epoch 2/100\n",
            "1/1 [==============================] - 0s 2ms/step - loss: 14494.8027\n",
            "Epoch 3/100\n",
            "1/1 [==============================] - 0s 1ms/step - loss: 4546.2368\n",
            "Epoch 4/100\n",
            "1/1 [==============================] - 0s 1ms/step - loss: 1427.8887\n",
            "Epoch 5/100\n",
            "1/1 [==============================] - 0s 1ms/step - loss: 450.4501\n",
            "Epoch 6/100\n",
            "1/1 [==============================] - 0s 1ms/step - loss: 144.0739\n",
            "Epoch 7/100\n",
            "1/1 [==============================] - 0s 1ms/step - loss: 48.0402\n",
            "Epoch 8/100\n",
            "1/1 [==============================] - 0s 1ms/step - loss: 17.9374\n",
            "Epoch 9/100\n",
            "1/1 [==============================] - 0s 2ms/step - loss: 8.5005\n",
            "Epoch 10/100\n",
            "1/1 [==============================] - 0s 1ms/step - loss: 5.5413\n",
            "Epoch 11/100\n",
            "1/1 [==============================] - 0s 2ms/step - loss: 4.6125\n",
            "Epoch 12/100\n",
            "1/1 [==============================] - 0s 1ms/step - loss: 4.3201\n",
            "Epoch 13/100\n",
            "1/1 [==============================] - 0s 1ms/step - loss: 4.2272\n",
            "Epoch 14/100\n",
            "1/1 [==============================] - 0s 1ms/step - loss: 4.1968\n",
            "Epoch 15/100\n",
            "1/1 [==============================] - 0s 1ms/step - loss: 4.1860\n",
            "Epoch 16/100\n",
            "1/1 [==============================] - 0s 1ms/step - loss: 4.1814\n",
            "Epoch 17/100\n",
            "1/1 [==============================] - 0s 1ms/step - loss: 4.1786\n",
            "Epoch 18/100\n",
            "1/1 [==============================] - 0s 1ms/step - loss: 4.1765\n",
            "Epoch 19/100\n",
            "1/1 [==============================] - 0s 3ms/step - loss: 4.1746\n",
            "Epoch 20/100\n",
            "1/1 [==============================] - 0s 1ms/step - loss: 4.1728\n",
            "Epoch 21/100\n",
            "1/1 [==============================] - 0s 1ms/step - loss: 4.1709\n",
            "Epoch 22/100\n",
            "1/1 [==============================] - 0s 1ms/step - loss: 4.1691\n",
            "Epoch 23/100\n",
            "1/1 [==============================] - 0s 1ms/step - loss: 4.1673\n",
            "Epoch 24/100\n",
            "1/1 [==============================] - 0s 2ms/step - loss: 4.1655\n",
            "Epoch 25/100\n",
            "1/1 [==============================] - 0s 1ms/step - loss: 4.1636\n",
            "Epoch 26/100\n",
            "1/1 [==============================] - 0s 975us/step - loss: 4.1618\n",
            "Epoch 27/100\n",
            "1/1 [==============================] - 0s 975us/step - loss: 4.1600\n",
            "Epoch 28/100\n",
            "1/1 [==============================] - 0s 957us/step - loss: 4.1582\n",
            "Epoch 29/100\n",
            "1/1 [==============================] - 0s 1ms/step - loss: 4.1564\n",
            "Epoch 30/100\n",
            "1/1 [==============================] - 0s 1ms/step - loss: 4.1545\n",
            "Epoch 31/100\n",
            "1/1 [==============================] - 0s 1ms/step - loss: 4.1527\n",
            "Epoch 32/100\n",
            "1/1 [==============================] - 0s 1ms/step - loss: 4.1509\n",
            "Epoch 33/100\n",
            "1/1 [==============================] - 0s 1ms/step - loss: 4.1491\n",
            "Epoch 34/100\n",
            "1/1 [==============================] - 0s 1ms/step - loss: 4.1473\n",
            "Epoch 35/100\n",
            "1/1 [==============================] - 0s 986us/step - loss: 4.1455\n",
            "Epoch 36/100\n",
            "1/1 [==============================] - 0s 1ms/step - loss: 4.1437\n",
            "Epoch 37/100\n",
            "1/1 [==============================] - 0s 1ms/step - loss: 4.1419\n",
            "Epoch 38/100\n",
            "1/1 [==============================] - 0s 1ms/step - loss: 4.1400\n",
            "Epoch 39/100\n",
            "1/1 [==============================] - 0s 1ms/step - loss: 4.1382\n",
            "Epoch 40/100\n",
            "1/1 [==============================] - 0s 1ms/step - loss: 4.1364\n",
            "Epoch 41/100\n",
            "1/1 [==============================] - 0s 1ms/step - loss: 4.1346\n",
            "Epoch 42/100\n",
            "1/1 [==============================] - 0s 1ms/step - loss: 4.1328\n",
            "Epoch 43/100\n",
            "1/1 [==============================] - 0s 2ms/step - loss: 4.1310\n",
            "Epoch 44/100\n",
            "1/1 [==============================] - 0s 1ms/step - loss: 4.1292\n",
            "Epoch 45/100\n",
            "1/1 [==============================] - 0s 962us/step - loss: 4.1274\n",
            "Epoch 46/100\n",
            "1/1 [==============================] - 0s 1ms/step - loss: 4.1256\n",
            "Epoch 47/100\n",
            "1/1 [==============================] - 0s 1ms/step - loss: 4.1238\n",
            "Epoch 48/100\n",
            "1/1 [==============================] - 0s 1ms/step - loss: 4.1220\n",
            "Epoch 49/100\n",
            "1/1 [==============================] - 0s 3ms/step - loss: 4.1202\n",
            "Epoch 50/100\n",
            "1/1 [==============================] - 0s 1ms/step - loss: 4.1184\n",
            "Epoch 51/100\n",
            "1/1 [==============================] - 0s 1ms/step - loss: 4.1166\n",
            "Epoch 52/100\n",
            "1/1 [==============================] - 0s 1ms/step - loss: 4.1148\n",
            "Epoch 53/100\n",
            "1/1 [==============================] - 0s 1ms/step - loss: 4.1130\n",
            "Epoch 54/100\n",
            "1/1 [==============================] - 0s 1ms/step - loss: 4.1112\n",
            "Epoch 55/100\n",
            "1/1 [==============================] - 0s 1ms/step - loss: 4.1094\n",
            "Epoch 56/100\n",
            "1/1 [==============================] - 0s 1ms/step - loss: 4.1076\n",
            "Epoch 57/100\n",
            "1/1 [==============================] - 0s 1ms/step - loss: 4.1058\n",
            "Epoch 58/100\n",
            "1/1 [==============================] - 0s 1ms/step - loss: 4.1040\n",
            "Epoch 59/100\n",
            "1/1 [==============================] - 0s 1ms/step - loss: 4.1023\n",
            "Epoch 60/100\n",
            "1/1 [==============================] - 0s 958us/step - loss: 4.1005\n",
            "Epoch 61/100\n",
            "1/1 [==============================] - 0s 1ms/step - loss: 4.0987\n",
            "Epoch 62/100\n",
            "1/1 [==============================] - 0s 1ms/step - loss: 4.0969\n",
            "Epoch 63/100\n",
            "1/1 [==============================] - 0s 1ms/step - loss: 4.0951\n",
            "Epoch 64/100\n",
            "1/1 [==============================] - 0s 1ms/step - loss: 4.0933\n",
            "Epoch 65/100\n",
            "1/1 [==============================] - 0s 2ms/step - loss: 4.0915\n",
            "Epoch 66/100\n",
            "1/1 [==============================] - 0s 1ms/step - loss: 4.0898\n",
            "Epoch 67/100\n",
            "1/1 [==============================] - 0s 3ms/step - loss: 4.0880\n",
            "Epoch 68/100\n",
            "1/1 [==============================] - 0s 2ms/step - loss: 4.0862\n",
            "Epoch 69/100\n",
            "1/1 [==============================] - 0s 2ms/step - loss: 4.0844\n",
            "Epoch 70/100\n",
            "1/1 [==============================] - 0s 1ms/step - loss: 4.0826\n",
            "Epoch 71/100\n",
            "1/1 [==============================] - 0s 1ms/step - loss: 4.0809\n",
            "Epoch 72/100\n",
            "1/1 [==============================] - 0s 1ms/step - loss: 4.0791\n",
            "Epoch 73/100\n",
            "1/1 [==============================] - 0s 1ms/step - loss: 4.0773\n",
            "Epoch 74/100\n",
            "1/1 [==============================] - 0s 2ms/step - loss: 4.0755\n",
            "Epoch 75/100\n",
            "1/1 [==============================] - 0s 1ms/step - loss: 4.0738\n",
            "Epoch 76/100\n",
            "1/1 [==============================] - 0s 1ms/step - loss: 4.0720\n",
            "Epoch 77/100\n",
            "1/1 [==============================] - 0s 1ms/step - loss: 4.0702\n",
            "Epoch 78/100\n",
            "1/1 [==============================] - 0s 1ms/step - loss: 4.0684\n",
            "Epoch 79/100\n",
            "1/1 [==============================] - 0s 1ms/step - loss: 4.0667\n",
            "Epoch 80/100\n",
            "1/1 [==============================] - 0s 1ms/step - loss: 4.0649\n",
            "Epoch 81/100\n",
            "1/1 [==============================] - 0s 3ms/step - loss: 4.0631\n",
            "Epoch 82/100\n",
            "1/1 [==============================] - 0s 1ms/step - loss: 4.0614\n",
            "Epoch 83/100\n",
            "1/1 [==============================] - 0s 1ms/step - loss: 4.0596\n",
            "Epoch 84/100\n",
            "1/1 [==============================] - 0s 2ms/step - loss: 4.0578\n",
            "Epoch 85/100\n",
            "1/1 [==============================] - 0s 3ms/step - loss: 4.0560\n",
            "Epoch 86/100\n",
            "1/1 [==============================] - 0s 1ms/step - loss: 4.0543\n",
            "Epoch 87/100\n",
            "1/1 [==============================] - 0s 1ms/step - loss: 4.0525\n",
            "Epoch 88/100\n",
            "1/1 [==============================] - 0s 2ms/step - loss: 4.0508\n",
            "Epoch 89/100\n",
            "1/1 [==============================] - 0s 1ms/step - loss: 4.0490\n",
            "Epoch 90/100\n",
            "1/1 [==============================] - 0s 1ms/step - loss: 4.0472\n",
            "Epoch 91/100\n",
            "1/1 [==============================] - 0s 1ms/step - loss: 4.0455\n",
            "Epoch 92/100\n",
            "1/1 [==============================] - 0s 1ms/step - loss: 4.0437\n",
            "Epoch 93/100\n",
            "1/1 [==============================] - 0s 2ms/step - loss: 4.0420\n",
            "Epoch 94/100\n",
            "1/1 [==============================] - 0s 1ms/step - loss: 4.0402\n",
            "Epoch 95/100\n",
            "1/1 [==============================] - 0s 5ms/step - loss: 4.0385\n",
            "Epoch 96/100\n",
            "1/1 [==============================] - 0s 2ms/step - loss: 4.0367\n",
            "Epoch 97/100\n",
            "1/1 [==============================] - 0s 1ms/step - loss: 4.0349\n",
            "Epoch 98/100\n",
            "1/1 [==============================] - 0s 1ms/step - loss: 4.0332\n",
            "Epoch 99/100\n",
            "1/1 [==============================] - 0s 2ms/step - loss: 4.0314\n",
            "Epoch 100/100\n",
            "1/1 [==============================] - 0s 1ms/step - loss: 4.0297\n"
          ],
          "name": "stdout"
        }
      ]
    },
    {
      "cell_type": "code",
      "metadata": {
        "colab": {
          "base_uri": "https://localhost:8080/"
        },
        "id": "wmo1pbfPoIvY",
        "outputId": "8a945a6e-addc-488d-81d7-1346fc286976"
      },
      "source": [
        "y_predict = tf.model.predict(np.array([[72.,93.,90.]]))\n",
        "print(y_predict)"
      ],
      "execution_count": null,
      "outputs": [
        {
          "output_type": "stream",
          "text": [
            "[[163.30905]]\n"
          ],
          "name": "stdout"
        }
      ]
    },
    {
      "cell_type": "code",
      "metadata": {
        "colab": {
          "base_uri": "https://localhost:8080/",
          "height": 295
        },
        "id": "4B6TUy6ooTpP",
        "outputId": "7d59c15e-1ab9-4d4e-89a2-006089bb7ff3"
      },
      "source": [
        "plt.plot(history.history['loss'])\n",
        "plt.title('Model loss')\n",
        "plt.ylabel('Loss')\n",
        "plt.xlabel('Epoch')\n",
        "plt.legend(['Train', 'Test'], loc='upper left')\n",
        "plt.show()"
      ],
      "execution_count": null,
      "outputs": [
        {
          "output_type": "display_data",
          "data": {
            "image/png": "[encoded data removed]",
            "text/plain": [
              "<Figure size 432x288 with 1 Axes>"
            ]
          },
          "metadata": {
            "tags": [],
            "needs_background": "light"
          }
        }
      ]
    },
    {
      "cell_type": "code",
      "metadata": {
        "id": "iwg_YKxAoeNP"
      },
      "source": [
        ""
      ],
      "execution_count": null,
      "outputs": []
    }
  ]
}