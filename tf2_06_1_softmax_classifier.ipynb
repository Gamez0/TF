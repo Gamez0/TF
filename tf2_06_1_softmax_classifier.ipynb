{
  "nbformat": 4,
  "nbformat_minor": 0,
  "metadata": {
    "colab": {
      "name": "tf2-06-1-softmax_classifier.ipynb",
      "provenance": [],
      "collapsed_sections": [],
      "authorship_tag": "ABX9TyPKGwdigQYTmMKuBEh00K0+",
      "include_colab_link": true
    },
    "kernelspec": {
      "name": "python3",
      "display_name": "Python 3"
    }
  },
  "cells": [
    {
      "cell_type": "markdown",
      "metadata": {
        "id": "view-in-github",
        "colab_type": "text"
      },
      "source": [
        "<a href=\"https://colab.research.google.com/github/Gamez0/TensorFlow2.0/blob/main/tf2_06_1_softmax_classifier.ipynb\" target=\"_parent\"><img src=\"https://colab.research.google.com/assets/colab-badge.svg\" alt=\"Open In Colab\"/></a>"
      ]
    },
    {
      "cell_type": "markdown",
      "metadata": {
        "id": "d4sFaz0q3IeF"
      },
      "source": [
        "Softmax function 은 여러개의(N개) class를 예측해야 할 때 유용하다.\n",
        "ex) 성적: A B C F\n",
        "XW = Y -> [2.0,1.0,0.1] -> SoftMax -> [0.7, 0.2, 0.1]\n",
        "SoftMax를 거치면 확률로 나온다. 나온 값들의 합은 1이다.\n",
        "\n",
        "one hot encoding 을 통해서 [1.0, 0.0, 0.0]으로 나올 수 있다.\n",
        "\n",
        "Cost function: cross entropy"
      ]
    },
    {
      "cell_type": "code",
      "metadata": {
        "id": "RsuJXhoN5t4-"
      },
      "source": [
        "import tensorflow as tf\n",
        "import numpy as np"
      ],
      "execution_count": 1,
      "outputs": []
    },
    {
      "cell_type": "code",
      "metadata": {
        "id": "Jqll7yH95wDn"
      },
      "source": [
        "x_raw = [[1, 2, 1, 1],\n",
        "          [2, 1, 3, 2],\n",
        "          [3, 1, 3, 4],\n",
        "          [4, 1, 5, 5],\n",
        "          [1, 7, 5, 5],\n",
        "          [1, 2, 5, 6],\n",
        "          [1, 6, 6, 6],\n",
        "          [1, 7, 7, 7]]\n",
        "y_raw = [[0, 0, 1],\n",
        "          [0, 0, 1],\n",
        "          [0, 0, 1],\n",
        "          [0, 1, 0],\n",
        "          [0, 1, 0],\n",
        "          [0, 1, 0],\n",
        "          [1, 0, 0],\n",
        "          [1, 0, 0]]"
      ],
      "execution_count": 2,
      "outputs": []
    },
    {
      "cell_type": "code",
      "metadata": {
        "id": "Z95yWSIX5x-G"
      },
      "source": [
        "x_data = np.array(x_raw, dtype=np.float32)\n",
        "y_data = np.array(y_raw, dtype=np.float32)"
      ],
      "execution_count": 3,
      "outputs": []
    },
    {
      "cell_type": "code",
      "metadata": {
        "id": "twQwETwh56Ct"
      },
      "source": [
        "nb_classes = 3"
      ],
      "execution_count": 4,
      "outputs": []
    },
    {
      "cell_type": "code",
      "metadata": {
        "id": "chCCH8o658O9"
      },
      "source": [
        "tf.model = tf.keras.Sequential()\n",
        "tf.model.add(tf.keras.layers.Dense(input_dim=4, units=nb_classes, use_bias=True))"
      ],
      "execution_count": 5,
      "outputs": []
    },
    {
      "cell_type": "code",
      "metadata": {
        "id": "rdKRmOQy6Ire"
      },
      "source": [
        "tf.model.add(tf.keras.layers.Activation('softmax'))"
      ],
      "execution_count": 7,
      "outputs": []
    },
    {
      "cell_type": "code",
      "metadata": {
        "colab": {
          "base_uri": "https://localhost:8080/"
        },
        "id": "4b9aHJkM6T7F",
        "outputId": "9f1a119d-f776-4de9-fb04-5b9747f1c2c8"
      },
      "source": [
        "tf.model.compile(loss='categorical_crossentropy', optimizer=tf.keras.optimizers.SGD(lr=0.1), metrics=['accuracy'])\n",
        "tf.model.summary()"
      ],
      "execution_count": 8,
      "outputs": [
        {
          "output_type": "stream",
          "text": [
            "Model: \"sequential\"\n",
            "_________________________________________________________________\n",
            "Layer (type)                 Output Shape              Param #   \n",
            "=================================================================\n",
            "dense (Dense)                (None, 3)                 15        \n",
            "_________________________________________________________________\n",
            "activation_1 (Activation)    (None, 3)                 0         \n",
            "=================================================================\n",
            "Total params: 15\n",
            "Trainable params: 15\n",
            "Non-trainable params: 0\n",
            "_________________________________________________________________\n"
          ],
          "name": "stdout"
        }
      ]
    },
    {
      "cell_type": "code",
      "metadata": {
        "id": "CoODn75G6lle"
      },
      "source": [
        "history = tf.model.fit(x_data,y_data, epochs=2000)"
      ],
      "execution_count": null,
      "outputs": []
    },
    {
      "cell_type": "code",
      "metadata": {
        "colab": {
          "base_uri": "https://localhost:8080/"
        },
        "id": "9I-tNwbB6pa9",
        "outputId": "67e751f3-e664-43b7-b0a8-701dddf3d033"
      },
      "source": [
        "print('--------------')\n",
        "# Testing & One-hot encoding\n",
        "a = tf.model.predict(np.array([[1,11,7,9]]))\n",
        "print(a, tf.keras.backend.eval(tf.argmax(a,axis=1)))"
      ],
      "execution_count": 10,
      "outputs": [
        {
          "output_type": "stream",
          "text": [
            "--------------\n",
            "[[4.2066765e-03 9.9578357e-01 9.7486836e-06]] [1]\n"
          ],
          "name": "stdout"
        }
      ]
    },
    {
      "cell_type": "code",
      "metadata": {
        "colab": {
          "base_uri": "https://localhost:8080/"
        },
        "id": "3F_AN85Z72G5",
        "outputId": "54457fb5-0f42-4153-cc92-da8a8061e827"
      },
      "source": [
        "print('--------------')\n",
        "b = tf.model.predict(np.array([[1,3,4,3]]))\n",
        "print(b,tf.keras.backend.eval(tf.argmax(b,axis=1)))"
      ],
      "execution_count": 13,
      "outputs": [
        {
          "output_type": "stream",
          "text": [
            "--------------\n",
            "[[0.8719065  0.11527461 0.01281898]] [0]\n"
          ],
          "name": "stdout"
        }
      ]
    },
    {
      "cell_type": "code",
      "metadata": {
        "colab": {
          "base_uri": "https://localhost:8080/"
        },
        "id": "HAdkO10Y8EMl",
        "outputId": "01ce89ee-23e6-4f65-9d87-ced86d75e55e"
      },
      "source": [
        "print('--------------')\n",
        "# or use argmax embedded method, predict_classes\n",
        "c = tf.model.predict(np.array([[1,1,0,1]]))\n",
        "c_onehot = tf.model.predict_classes(np.array([[1,1,0,1]]))\n",
        "print(c, c_onehot)"
      ],
      "execution_count": 14,
      "outputs": [
        {
          "output_type": "stream",
          "text": [
            "--------------\n",
            "WARNING:tensorflow:From <ipython-input-14-a7ada19653c5>:4: Sequential.predict_classes (from tensorflow.python.keras.engine.sequential) is deprecated and will be removed after 2021-01-01.\n",
            "Instructions for updating:\n",
            "Please use instead:* `np.argmax(model.predict(x), axis=-1)`,   if your model does multi-class classification   (e.g. if it uses a `softmax` last-layer activation).* `(model.predict(x) > 0.5).astype(\"int32\")`,   if your model does binary classification   (e.g. if it uses a `sigmoid` last-layer activation).\n",
            "[[1.2407665e-08 3.4634044e-04 9.9965370e-01]] [2]\n"
          ],
          "name": "stdout"
        }
      ]
    },
    {
      "cell_type": "code",
      "metadata": {
        "id": "ij5BxFDU81Dd"
      },
      "source": [
        ""
      ],
      "execution_count": null,
      "outputs": []
    }
  ]
}