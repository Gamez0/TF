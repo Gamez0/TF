{
  "nbformat": 4,
  "nbformat_minor": 0,
  "metadata": {
    "colab": {
      "name": "tf2-04-2-file_input_linear_regression.ipynb",
      "provenance": [],
      "collapsed_sections": [],
      "mount_file_id": "17S1YMzdI6_ISmQoFMY3Vqo-DWGLq4N2q",
      "authorship_tag": "ABX9TyNicxpSDSTIoewEPu/8t0kQ",
      "include_colab_link": true
    },
    "kernelspec": {
      "name": "python3",
      "display_name": "Python 3"
    }
  },
  "cells": [
    {
      "cell_type": "markdown",
      "metadata": {
        "id": "view-in-github",
        "colab_type": "text"
      },
      "source": [
        "<a href=\"https://colab.research.google.com/github/Gamez0/TensorFlow2.0/blob/main/tf2_04_2_file_input_linear_regression.ipynb\" target=\"_parent\"><img src=\"https://colab.research.google.com/assets/colab-badge.svg\" alt=\"Open In Colab\"/></a>"
      ]
    },
    {
      "cell_type": "code",
      "metadata": {
        "id": "--6A4axPeAUn"
      },
      "source": [
        "import tensorflow as tf\n",
        "import numpy as np\n",
        "import matplotlib.pyplot as plt "
      ],
      "execution_count": null,
      "outputs": []
    },
    {
      "cell_type": "code",
      "metadata": {
        "id": "Inf49mqRgEzI"
      },
      "source": [
        "xy = np.loadtxt('/content/drive/MyDrive/data/data-01-test-score.csv', delimiter=',', dtype=np.float32)\n",
        "x_data = xy[:,0:-1]\n",
        "y_data = xy[:,[-1]]"
      ],
      "execution_count": null,
      "outputs": []
    },
    {
      "cell_type": "code",
      "metadata": {
        "colab": {
          "base_uri": "https://localhost:8080/"
        },
        "id": "GsNPhrpFgxSt",
        "outputId": "861d14e5-a675-4a2c-e4e8-acbfeb6030f8"
      },
      "source": [
        "print(x_data,\"\\nx_data shape:\",x_data.shape)\n",
        "print(y_data,\"\\ny_data shape:\",y_data.shape)"
      ],
      "execution_count": null,
      "outputs": [
        {
          "output_type": "stream",
          "text": [
            "[[ 73.  80.  75.]\n",
            " [ 93.  88.  93.]\n",
            " [ 89.  91.  90.]\n",
            " [ 96.  98. 100.]\n",
            " [ 73.  66.  70.]\n",
            " [ 53.  46.  55.]] \n",
            "x_data shape: (6, 3)\n",
            "[[152.]\n",
            " [185.]\n",
            " [180.]\n",
            " [196.]\n",
            " [142.]\n",
            " [101.]] \n",
            "y_data shape: (6, 1)\n"
          ],
          "name": "stdout"
        }
      ]
    },
    {
      "cell_type": "code",
      "metadata": {
        "colab": {
          "base_uri": "https://localhost:8080/"
        },
        "id": "hcGJb2sQhioE",
        "outputId": "cb9c0109-35e0-413b-d4e8-7e009bfaf831"
      },
      "source": [
        "tf.model = tf.keras.Sequential()\n",
        "# activation function doesn't have to be added as a separate layer. Add it as an argument of Dense() layer\n",
        "tf.model.add(tf.keras.layers.Dense(units=1, input_dim=3, activation='linear'))\n",
        "# tf.model.add(tf.keras.layers.Activation('linear'))\n",
        "tf.model.summary()"
      ],
      "execution_count": null,
      "outputs": [
        {
          "output_type": "stream",
          "text": [
            "Model: \"sequential_1\"\n",
            "_________________________________________________________________\n",
            "Layer (type)                 Output Shape              Param #   \n",
            "=================================================================\n",
            "dense_1 (Dense)              (None, 1)                 4         \n",
            "=================================================================\n",
            "Total params: 4\n",
            "Trainable params: 4\n",
            "Non-trainable params: 0\n",
            "_________________________________________________________________\n"
          ],
          "name": "stdout"
        }
      ]
    },
    {
      "cell_type": "code",
      "metadata": {
        "id": "iILTi8Afkoq2"
      },
      "source": [
        "tf.model.compile(loss='mse', optimizer=tf.keras.optimizers.SGD(lr=1e-5))\n",
        "history = tf.model.fit(x_data,y_data,epochs=2000)"
      ],
      "execution_count": null,
      "outputs": []
    },
    {
      "cell_type": "code",
      "metadata": {
        "colab": {
          "base_uri": "https://localhost:8080/"
        },
        "id": "epjNpoyak7nK",
        "outputId": "b84c552c-6452-4aa9-aa11-44288e929b29"
      },
      "source": [
        "# Ask my score\n",
        "print(\"Your score will be \",tf.model.predict([[100,70,101]]))"
      ],
      "execution_count": null,
      "outputs": [
        {
          "output_type": "stream",
          "text": [
            "Your score will be  [[169.37714]]\n"
          ],
          "name": "stdout"
        }
      ]
    },
    {
      "cell_type": "code",
      "metadata": {
        "colab": {
          "base_uri": "https://localhost:8080/",
          "height": 295
        },
        "id": "m6kDtAtGlInv",
        "outputId": "1d6d6d71-1579-4992-c650-edc38a30c8e2"
      },
      "source": [
        "plt.plot(history.history['loss'])\n",
        "plt.title('Model')\n",
        "plt.ylabel('Loss')\n",
        "plt.xlabel('Epoch')\n",
        "plt.legend(['Train', 'Test'], loc='upper left')\n",
        "plt.show()"
      ],
      "execution_count": null,
      "outputs": [
        {
          "output_type": "display_data",
          "data": {
            "image/png": "[encoded data removed]",
            "text/plain": [
              "<Figure size 432x288 with 1 Axes>"
            ]
          },
          "metadata": {
            "tags": [],
            "needs_background": "light"
          }
        }
      ]
    },
    {
      "cell_type": "code",
      "metadata": {
        "id": "V3-54HmilcLi"
      },
      "source": [
        ""
      ],
      "execution_count": null,
      "outputs": []
    }
  ]
}